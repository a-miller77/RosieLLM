{
 "cells": [
  {
   "cell_type": "code",
   "execution_count": 1,
   "metadata": {},
   "outputs": [],
   "source": [
    "import sys\n",
    "sys.path.append('..')\n",
    "from rosiellm import RosieLLM\n",
    "from rosiellm.RosieSSH import RosieSSH, RosieAuth\n",
    "import base64\n",
    "import time"
   ]
  },
  {
   "cell_type": "markdown",
   "metadata": {},
   "source": [
    "### Test RosieSSH"
   ]
  },
  {
   "cell_type": "code",
   "execution_count": null,
   "metadata": {},
   "outputs": [],
   "source": [
    "rosie_ssh = RosieSSH()\n",
    "rosie_ssh.connect()"
   ]
  },
  {
   "cell_type": "code",
   "execution_count": null,
   "metadata": {},
   "outputs": [],
   "source": [
    "print(\"Streaming: \", \"\\n\", \"---------\")\n",
    "output = rosie_ssh.execute_command('squeue', streaming=True)\n",
    "print(\"---------\", \"\\n\", \"End Streaming\")\n",
    "print(\"Output:\", \"\\n\", output)"
   ]
  },
  {
   "cell_type": "code",
   "execution_count": null,
   "metadata": {},
   "outputs": [],
   "source": [
    "commands = ['hostname', 'hostname', 'uptime', 'uptime', 'echo \"Hello World!\"', 'echo \"Hello World!\"']\n",
    "for command in commands:\n",
    "    #track time\n",
    "    start = time.time()\n",
    "    output = rosie_ssh.execute_command(command)\n",
    "    print(f\"Command[{command}, time: {time.time() - start:.2f}]:\", end=\"\")\n",
    "    print(output, end=\"\\n\")\n",
    "    # time.sleep(1)"
   ]
  },
  {
   "cell_type": "code",
   "execution_count": null,
   "metadata": {},
   "outputs": [],
   "source": [
    "rosie_ssh.close()"
   ]
  },
  {
   "cell_type": "markdown",
   "metadata": {},
   "source": [
    "#### Test RosieAuth"
   ]
  },
  {
   "cell_type": "code",
   "execution_count": 2,
   "metadata": {},
   "outputs": [
    {
     "name": "stdout",
     "output_type": "stream",
     "text": [
      "Src Authorization Header: \"Basic dXNlcm5hbWU6cGFzc3dvcmQ=\"\n",
      "Lib Authorization Header: \"Basic dXNlcm5hbWU6cGFzc3dvcmQ=\"\n"
     ]
    }
   ],
   "source": [
    "credentials = \"username:password\"\n",
    "encoded_credentials = base64.b64encode(credentials.encode(\"utf-8\")).decode(\"utf-8\")\n",
    "authorization_header = f\"Basic {encoded_credentials}\"\n",
    "\n",
    "rosie_auth = RosieAuth(\"username\", \"password\")\n",
    "rosie_auth_header = f\"Basic {rosie_auth.get_rosie_auth()}\"\n",
    "\n",
    "print(\"Src Authorization Header:\", f'\"{authorization_header}\"')\n",
    "print(\"Lib Authorization Header:\", f'\"{rosie_auth_header}\"')"
   ]
  },
  {
   "cell_type": "markdown",
   "metadata": {},
   "source": [
    "### Test vLLM Server"
   ]
  },
  {
   "cell_type": "code",
   "execution_count": 3,
   "metadata": {},
   "outputs": [
    {
     "ename": "TypeError",
     "evalue": "'module' object is not callable",
     "output_type": "error",
     "traceback": [
      "\u001b[1;31m---------------------------------------------------------------------------\u001b[0m",
      "\u001b[1;31mTypeError\u001b[0m                                 Traceback (most recent call last)",
      "Cell \u001b[1;32mIn[3], line 1\u001b[0m\n\u001b[1;32m----> 1\u001b[0m client \u001b[38;5;241m=\u001b[39m \u001b[43mRosieLLM\u001b[49m\u001b[43m(\u001b[49m\n\u001b[0;32m      2\u001b[0m \u001b[43m    \u001b[49m\u001b[43mrosie_username\u001b[49m\u001b[38;5;241;43m=\u001b[39;49m\u001b[38;5;124;43m\"\u001b[39;49m\u001b[38;5;124;43monoratoe\u001b[39;49m\u001b[38;5;124;43m\"\u001b[39;49m\u001b[43m,\u001b[49m\n\u001b[0;32m      3\u001b[0m \u001b[43m    \u001b[49m\u001b[43mreturn_openai_client\u001b[49m\u001b[38;5;241;43m=\u001b[39;49m\u001b[38;5;28;43;01mTrue\u001b[39;49;00m\u001b[43m,\u001b[49m\n\u001b[0;32m      4\u001b[0m \u001b[43m)\u001b[49m\n",
      "File \u001b[1;32mc:\\Users\\milleraa\\OneDrive - Milwaukee School of Engineering\\Documents\\GitHub\\RosieLLM\\env\\Lib\\site-packages\\rosiellm\\RosieLLM.py:31\u001b[0m, in \u001b[0;36mRosieLLM.__init__\u001b[1;34m(self, job_name, rosie_username, management_node, return_openai_client)\u001b[0m\n\u001b[0;32m     29\u001b[0m \u001b[38;5;28mself\u001b[39m\u001b[38;5;241m.\u001b[39mrosie_ssh_address \u001b[38;5;241m=\u001b[39m \u001b[38;5;124mf\u001b[39m\u001b[38;5;124m\"\u001b[39m\u001b[38;5;132;01m{\u001b[39;00mmanagement_node\u001b[38;5;132;01m}\u001b[39;00m\u001b[38;5;124m.hpc.msoe.edu\u001b[39m\u001b[38;5;124m\"\u001b[39m\n\u001b[0;32m     30\u001b[0m \u001b[38;5;66;03m# NOTE: RosieSSH assumes the address can be provided from .env which isn't compatible here\u001b[39;00m\n\u001b[1;32m---> 31\u001b[0m \u001b[38;5;28mself\u001b[39m\u001b[38;5;241m.\u001b[39mrosie_ssh \u001b[38;5;241m=\u001b[39m \u001b[43mRosieSSH\u001b[49m\u001b[43m(\u001b[49m\u001b[43mrosie_username\u001b[49m\u001b[43m,\u001b[49m\u001b[43m \u001b[49m\u001b[38;5;28;43mself\u001b[39;49m\u001b[38;5;241;43m.\u001b[39;49m\u001b[43mrosie_ssh_address\u001b[49m\u001b[43m)\u001b[49m\n\u001b[0;32m     32\u001b[0m \u001b[38;5;28mself\u001b[39m\u001b[38;5;241m.\u001b[39mmanager \u001b[38;5;241m=\u001b[39m JobManager(job_name, \u001b[38;5;28mself\u001b[39m\u001b[38;5;241m.\u001b[39mrosie_ssh)\n\u001b[0;32m     33\u001b[0m \u001b[38;5;28mself\u001b[39m\u001b[38;5;241m.\u001b[39muser \u001b[38;5;241m=\u001b[39m \u001b[38;5;28mself\u001b[39m\u001b[38;5;241m.\u001b[39mmanager\u001b[38;5;241m.\u001b[39muser\n",
      "\u001b[1;31mTypeError\u001b[0m: 'module' object is not callable"
     ]
    }
   ],
   "source": [
    "client = RosieLLM(\n",
    "    rosie_username=\"onoratoe\",\n",
    "    return_openai_client=True,\n",
    ")"
   ]
  },
  {
   "cell_type": "code",
   "execution_count": null,
   "metadata": {},
   "outputs": [],
   "source": [
    "# call __dict__ recursively to get all attributes\n",
    "d = client.__dict__\n",
    "for key in d:\n",
    "    # if key is a class object, call __dict__ recursively\n",
    "    if hasattr(d[key], '__dict__'):\n",
    "        print(f\"{key}:\")\n",
    "        for subkey in d[key].__dict__:\n",
    "            if (subkey == \"_custom_headers\"):\n",
    "                # hide password to avoid accidental exposure\n",
    "                header_dict = d[key].__dict__[subkey]\n",
    "                header_str = str(header_dict)\n",
    "                idx1 = header_str.find(\"'Basic \")\n",
    "                idx2 = header_str.find(\"'\", idx1 + 1)\n",
    "                if idx1 != -1 and idx2 != -1:\n",
    "                    print(f'    {subkey}: {header_str[:idx1 + len(\"Basic \")]} <***>{header_str[idx2:]}')\n",
    "                else:\n",
    "                    print(f'    {subkey}: {header_str}')\n",
    "            else:\n",
    "                print(f\"    {subkey}: {d[key].__dict__[subkey]}\")\n",
    "    else:\n",
    "        print(f\"{key}: {d[key]}\")"
   ]
  },
  {
   "cell_type": "code",
   "execution_count": null,
   "metadata": {},
   "outputs": [],
   "source": [
    "# client = client.http_client"
   ]
  },
  {
   "cell_type": "code",
   "execution_count": null,
   "metadata": {},
   "outputs": [],
   "source": [
    "client.isRunning"
   ]
  },
  {
   "cell_type": "code",
   "execution_count": null,
   "metadata": {},
   "outputs": [],
   "source": [
    "completion = client.chat.completions.create(\n",
    "  model=\"NousResearch/Meta-Llama-3-8B-Instruct\",\n",
    "  messages=[\n",
    "    {\"role\": \"user\", \"content\": \"What is AI Club at MSOE?\"},\n",
    "  ],\n",
    "  stream=True,\n",
    ")\n",
    "\n",
    "for chunk in completion:\n",
    "  print(chunk.choices[0].delta.content, end=\"\")\n",
    "# print(completion.choices[0].message.content)"
   ]
  },
  {
   "cell_type": "code",
   "execution_count": null,
   "metadata": {},
   "outputs": [],
   "source": []
  }
 ],
 "metadata": {
  "kernelspec": {
   "display_name": "env",
   "language": "python",
   "name": "python3"
  },
  "language_info": {
   "codemirror_mode": {
    "name": "ipython",
    "version": 3
   },
   "file_extension": ".py",
   "mimetype": "text/x-python",
   "name": "python",
   "nbconvert_exporter": "python",
   "pygments_lexer": "ipython3",
   "version": "3.11.9"
  }
 },
 "nbformat": 4,
 "nbformat_minor": 2
}
