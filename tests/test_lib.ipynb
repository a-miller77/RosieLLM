{
 "cells": [
  {
   "cell_type": "code",
   "execution_count": 3,
   "metadata": {},
   "outputs": [],
   "source": [
    "import sys\n",
    "sys.path.append('..')\n",
    "from rosiellm import RosieLLM\n",
    "from rosiellm.RosieSSH import RosieSSH, RosieAuth\n",
    "import base64\n",
    "import time"
   ]
  },
  {
   "cell_type": "markdown",
   "metadata": {},
   "source": [
    "### Test RosieSSH"
   ]
  },
  {
   "cell_type": "code",
   "execution_count": null,
   "metadata": {},
   "outputs": [],
   "source": [
    "rosie_ssh = RosieSSH()\n",
    "rosie_ssh.connect()"
   ]
  },
  {
   "cell_type": "code",
   "execution_count": null,
   "metadata": {},
   "outputs": [],
   "source": [
    "print(\"Streaming: \", \"\\n\", \"---------\")\n",
    "output = rosie_ssh.execute_command('squeue', streaming=True)\n",
    "print(\"---------\", \"\\n\", \"End Streaming\")\n",
    "print(\"Output:\", \"\\n\", output)"
   ]
  },
  {
   "cell_type": "code",
   "execution_count": null,
   "metadata": {},
   "outputs": [],
   "source": [
    "commands = ['hostname', 'hostname', 'uptime', 'uptime', 'echo \"Hello World!\"', 'echo \"Hello World!\"']\n",
    "for command in commands:\n",
    "    #track time\n",
    "    start = time.time()\n",
    "    output = rosie_ssh.execute_command(command)\n",
    "    print(f\"Command[{command}, time: {time.time() - start:.2f}]:\", end=\"\")\n",
    "    print(output, end=\"\\n\")\n",
    "    # time.sleep(1)"
   ]
  },
  {
   "cell_type": "code",
   "execution_count": null,
   "metadata": {},
   "outputs": [],
   "source": [
    "rosie_ssh.close()"
   ]
  },
  {
   "cell_type": "markdown",
   "metadata": {},
   "source": [
    "#### Test RosieAuth"
   ]
  },
  {
   "cell_type": "code",
   "execution_count": null,
   "metadata": {},
   "outputs": [],
   "source": [
    "credentials = \"username:password\"\n",
    "encoded_credentials = base64.b64encode(credentials.encode(\"utf-8\")).decode(\"utf-8\")\n",
    "authorization_header = f\"Basic {encoded_credentials}\"\n",
    "\n",
    "rosie_auth = RosieAuth(\"username\", \"password\")\n",
    "rosie_auth_header = f\"Basic {rosie_auth.get_rosie_auth()}\"\n",
    "\n",
    "print(\"Src Authorization Header:\", f'\"{authorization_header}\"')\n",
    "print(\"Lib Authorization Header:\", f'\"{rosie_auth_header}\"')"
   ]
  },
  {
   "cell_type": "markdown",
   "metadata": {},
   "source": [
    "### Test vLLM Server"
   ]
  },
  {
   "cell_type": "code",
   "execution_count": 6,
   "metadata": {},
   "outputs": [
    {
     "name": "stderr",
     "output_type": "stream",
     "text": [
      "WARNING:rosiellm.RosieLLM:Invalid management node provided, choosing a random node.\n",
      "INFO:paramiko.transport:Connected (version 2.0, client OpenSSH_8.2p1)\n",
      "INFO:paramiko.transport:Authentication (password) successful!\n",
      "INFO:paramiko.transport:Connected (version 2.0, client OpenSSH_8.2p1)\n",
      "INFO:paramiko.transport:Authentication (password) successful!\n",
      "WARNING:rosiellm.RosieJob:Providing additional arguments the the job manager might cause unexpected behavior.\n",
      "INFO:rosiellm.RosieJob:Updated partition from teaching > teaching\n",
      "INFO:rosiellm.RosieJob:Updated gpus from 2 > 2\n",
      "INFO:paramiko.transport.sftp:[chan 1] Opened sftp connection (server version 3)\n",
      "INFO:paramiko.transport.sftp:[chan 1] sftp session closed.\n"
     ]
    },
    {
     "name": "stdout",
     "output_type": "stream",
     "text": [
      "\n",
      "Submitted batch job 178119\n"
     ]
    },
    {
     "name": "stderr",
     "output_type": "stream",
     "text": [
      "INFO:rosiellm.RosieJob:Job URL Found\n",
      "INFO:rosiellm.RosieLLM:See your job progress here:\n",
      "INFO:rosiellm.RosieLLM:https://dh-ood.hpc.msoe.edu/pun/sys/dashboard/files/fs//data/ai_club/RosieLLM/out/milleraa_out.txt\n"
     ]
    },
    {
     "name": "stdout",
     "output_type": "stream",
     "text": [
      "Job has been launched, waiting for server to start (this can take over a minute)...\n"
     ]
    }
   ],
   "source": [
    "client = RosieLLM(\n",
    "    rosie_username=\"milleraa\",\n",
    "    partition=\"teaching\",\n",
    "    gpus=2,\n",
    "    # log_level=\"debug\"\n",
    ")"
   ]
  },
  {
   "cell_type": "code",
   "execution_count": null,
   "metadata": {},
   "outputs": [],
   "source": [
    "# call __dict__ recursively to get all attributes\n",
    "d = client.__dict__\n",
    "for key in d:\n",
    "    # if key is a class object, call __dict__ recursively\n",
    "    if hasattr(d[key], '__dict__'):\n",
    "        print(f\"{key}:\")\n",
    "        for subkey in d[key].__dict__:\n",
    "            if (subkey == \"_custom_headers\"):\n",
    "                # hide password to avoid accidental exposure\n",
    "                header_dict = d[key].__dict__[subkey]\n",
    "                header_str = str(header_dict)\n",
    "                idx1 = header_str.find(\"'Basic \")\n",
    "                idx2 = header_str.find(\"'\", idx1 + 1)\n",
    "                if idx1 != -1 and idx2 != -1:\n",
    "                    print(f'    {subkey}: {header_str[:idx1 + len(\"Basic \")]} <***>{header_str[idx2:]}')\n",
    "                else:\n",
    "                    print(f'    {subkey}: {header_str}')\n",
    "            else:\n",
    "                print(f\"    {subkey}: {d[key].__dict__[subkey]}\")\n",
    "    else:\n",
    "        print(f\"{key}: {d[key]}\")"
   ]
  },
  {
   "cell_type": "code",
   "execution_count": null,
   "metadata": {},
   "outputs": [],
   "source": [
    "# client = client.http_client"
   ]
  },
  {
   "cell_type": "code",
   "execution_count": null,
   "metadata": {},
   "outputs": [],
   "source": [
    "client.isRunning"
   ]
  },
  {
   "cell_type": "code",
   "execution_count": 8,
   "metadata": {},
   "outputs": [
    {
     "name": "stderr",
     "output_type": "stream",
     "text": [
      "INFO:rosiellm.RosieLLM:Checking server health...\n",
      "INFO:rosiellm.RosieLLM:Health check status: 200: ok\n",
      "INFO:rosiellm.RosieLLM:Server is running.\n",
      "INFO:httpx:HTTP Request: POST https://dh-ood.hpc.msoe.edu/node/dh-node18.hpc.msoe.edu/1234/v1/chat/completions \"HTTP/1.1 200 OK\"\n"
     ]
    },
    {
     "name": "stdout",
     "output_type": "stream",
     "text": [
      "The AI Club at Milwaukee School of Engineering (MSOE) is a student-run organization that focuses on artificial intelligence (AI) and its applications. The club provides a platform for students, faculty, and industry professionals to come together, share knowledge, and work on AI-related projects.\n",
      "\n",
      "The AI Club at MSOE aims to:\n",
      "\n",
      "1. Educate members about AI concepts, techniques, and applications through workshops, seminars, and guest lectures.\n",
      "2. Provide opportunities for members to work on AI-related projects, such as machine learning, natural language processing, computer vision, and robotics.\n",
      "3. Foster a community of like-minded individuals who are interested in AI and its potential to transform industries and society.\n",
      "4. Organize hackathons, competitions, and events to challenge members to develop innovative AI solutions.\n",
      "5. Facilitate connections between MSOE students and industry professionals in the AI field, potentially leading to internships, job opportunities, and collaborations.\n",
      "\n",
      "The AI Club at MSOE is open to all MSOE students, regardless of their major or academic background. Membership is free, and the club is self-funded through sponsorships and donations.\n",
      "\n",
      "Some of the activities and events that the AI Club at MSOE may organize include:\n",
      "\n",
      "* AI workshops and tutorials\n",
      "* Guest lectures by industry professionals and researchers\n",
      "* Project showcases and demos\n",
      "* Hackathons and competitions\n",
      "* Networking events with industry partners\n",
      "* Social gatherings and outings\n",
      "\n",
      "If you're interested in AI and want to connect with like-minded individuals at MSOE, the AI Club is a great way to get involved and stay up-to-date on the latest developments in the field."
     ]
    },
    {
     "name": "stderr",
     "output_type": "stream",
     "text": [
      "ERROR:paramiko.transport:Socket exception: An existing connection was forcibly closed by the remote host (10054)\n",
      "ERROR:paramiko.transport:Socket exception: An existing connection was forcibly closed by the remote host (10054)\n"
     ]
    }
   ],
   "source": [
    "completion = client.chat.completions.create(\n",
    "  model=client.model,\n",
    "  messages=[\n",
    "    {\"role\": \"user\", \"content\": \"What is AI Club at MSOE?\"},\n",
    "  ],\n",
    "  stream=True,\n",
    ")\n",
    "\n",
    "for chunk in completion:\n",
    "  print(chunk.choices[0].delta.content, end=\"\")\n",
    "# print(completion.choices[0].message.content)"
   ]
  },
  {
   "cell_type": "code",
   "execution_count": null,
   "metadata": {},
   "outputs": [],
   "source": []
  }
 ],
 "metadata": {
  "kernelspec": {
   "display_name": "env",
   "language": "python",
   "name": "python3"
  },
  "language_info": {
   "codemirror_mode": {
    "name": "ipython",
    "version": 3
   },
   "file_extension": ".py",
   "mimetype": "text/x-python",
   "name": "python",
   "nbconvert_exporter": "python",
   "pygments_lexer": "ipython3",
   "version": "3.11.9"
  }
 },
 "nbformat": 4,
 "nbformat_minor": 2
}
